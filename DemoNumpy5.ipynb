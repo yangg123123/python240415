{
 "cells": [
  {
   "cell_type": "code",
   "execution_count": 2,
   "source": [
    "# DemoNumpy5.ipynb\n",
    "import numpy as np \n",
    "\n",
    "a = np.arange(10000).reshape(100,100)\n",
    "%timeit a[0,50]\n",
    "#노트북에서 173나노세컨드의 시간이 걸렸다. "
   ],
   "outputs": [
    {
     "output_type": "stream",
     "name": "stdout",
     "text": [
      "173 ns ± 7.71 ns per loop (mean ± std. dev. of 7 runs, 1000000 loops each)\n"
     ]
    }
   ],
   "metadata": {}
  },
  {
   "cell_type": "code",
   "execution_count": 4,
   "source": [
    "#이번에는 두번에 걸쳐서 인덱싱을 해본다. \n",
    "a = np.arange(10000).reshape(100,100)\n",
    "%timeit a[0][50]\n",
    "#이번에는 396 나노 세컨드가 소요되었다. "
   ],
   "outputs": [
    {
     "output_type": "stream",
     "name": "stdout",
     "text": [
      "396 ns ± 107 ns per loop (mean ± std. dev. of 7 runs, 1000000 loops each)\n"
     ]
    }
   ],
   "metadata": {}
  },
  {
   "cell_type": "code",
   "execution_count": null,
   "source": [],
   "outputs": [],
   "metadata": {}
  }
 ],
 "metadata": {
  "orig_nbformat": 4,
  "language_info": {
   "name": "python",
   "version": "3.8.5",
   "mimetype": "text/x-python",
   "codemirror_mode": {
    "name": "ipython",
    "version": 3
   },
   "pygments_lexer": "ipython3",
   "nbconvert_exporter": "python",
   "file_extension": ".py"
  },
  "kernelspec": {
   "name": "python3",
   "display_name": "Python 3.8.5 64-bit ('base': conda)"
  },
  "interpreter": {
   "hash": "adb4f671e4da8e4de19c888ad14afaf4727090448de8546441b9be28e6136ce6"
  }
 },
 "nbformat": 4,
 "nbformat_minor": 2
}